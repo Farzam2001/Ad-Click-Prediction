{
  "nbformat": 4,
  "nbformat_minor": 0,
  "metadata": {
    "colab": {
      "name": "Ad_Click_Prediction.ipynb",
      "version": "0.3.2",
      "provenance": []
    },
    "language_info": {
      "codemirror_mode": {
        "name": "ipython",
        "version": 3
      },
      "file_extension": ".py",
      "mimetype": "text/x-python",
      "name": "python",
      "nbconvert_exporter": "python",
      "pygments_lexer": "ipython3",
      "version": "3.6.3"
    },
    "kernelspec": {
      "name": "python3",
      "display_name": "Python 3"
    },
    "accelerator": "GPU"
  },
  "cells": [
    {
      "cell_type": "markdown",
      "metadata": {
        "id": "R95jUBDV73Az",
        "colab_type": "text"
      },
      "source": [
        "## Introduction\n",
        "\n",
        "This is a project aimed at predicting the probability of a  user clicking an ad displayed on the website. The dataset contains various features, including timestamp, website ID, browser information, offer ID, etc. pertaining to the advertisements displayed and the users' response. The challenge is to build a classification model that correctly predicts whether a user will click an ad, under various circumstances.\n",
        "\n",
        "The preprocessing steps that have been followed include :\n",
        "\n",
        "*   Imputing missing values\n",
        "*   Encoding categorical variables\n",
        "*   Feature Engineering\n",
        "\n",
        "\n",
        "The primary issue with the dataset is that the Target feature is highly skewed with the number of negative samples being almost 100 times the number of positive samples available.We first try conventional approaches using various standard models, with the objective of achieving a high AUC score. The models that have been used include:\n",
        "\n",
        "*   XGBoost\n",
        "*   LightGBM\n",
        "*   Random Forest Classifier\n",
        "\n",
        "\n",
        "\n",
        "Following this, we follow two other approaches that are tailored to address the specific problem of the skewed dataset.\n",
        "\n",
        "\n",
        "*   Logistic Regression with a custom cost function and gradient update rule\n",
        "*   XGBoost with a modified dataset to counter skewness\n"
      ]
    },
    {
      "cell_type": "markdown",
      "metadata": {
        "id": "JbvfAAN_aeaU",
        "colab_type": "text"
      },
      "source": [
        "### Importing necessary libraries"
      ]
    },
    {
      "cell_type": "code",
      "metadata": {
        "id": "XTaF7FEUBP1C",
        "colab_type": "code",
        "colab": {}
      },
      "source": [
        "import pandas as pd\n",
        "import numpy as np\n",
        "import matplotlib.pyplot as plt\n",
        "%matplotlib inline "
      ],
      "execution_count": 0,
      "outputs": []
    },
    {
      "cell_type": "code",
      "metadata": {
        "id": "kSSIUsQrBP1U",
        "colab_type": "code",
        "colab": {}
      },
      "source": [
        "train=pd.read_csv('train.csv')\n",
        "test=pd.read_csv('test.csv') "
      ],
      "execution_count": 0,
      "outputs": []
    },
    {
      "cell_type": "markdown",
      "metadata": {
        "id": "dtlhLQl7aqL8",
        "colab_type": "text"
      },
      "source": [
        "We concat the train and test sets for the purpose of preprocessing, and separate them later for training"
      ]
    },
    {
      "cell_type": "code",
      "metadata": {
        "id": "-X04X0W8BP1w",
        "colab_type": "code",
        "colab": {}
      },
      "source": [
        "data = pd.concat([train,test],axis=0) "
      ],
      "execution_count": 0,
      "outputs": []
    },
    {
      "cell_type": "code",
      "metadata": {
        "id": "VpOKBfBRBP15",
        "colab_type": "code",
        "outputId": "62d01da9-481c-434a-e6b7-c1b78fe5722d",
        "colab": {
          "base_uri": "https://localhost:8080/",
          "height": 204
        }
      },
      "source": [
        "data.head()"
      ],
      "execution_count": 8,
      "outputs": [
        {
          "output_type": "execute_result",
          "data": {
            "text/html": [
              "<div>\n",
              "<style scoped>\n",
              "    .dataframe tbody tr th:only-of-type {\n",
              "        vertical-align: middle;\n",
              "    }\n",
              "\n",
              "    .dataframe tbody tr th {\n",
              "        vertical-align: top;\n",
              "    }\n",
              "\n",
              "    .dataframe thead th {\n",
              "        text-align: right;\n",
              "    }\n",
              "</style>\n",
              "<table border=\"1\" class=\"dataframe\">\n",
              "  <thead>\n",
              "    <tr style=\"text-align: right;\">\n",
              "      <th></th>\n",
              "      <th>ID</th>\n",
              "      <th>browserid</th>\n",
              "      <th>category</th>\n",
              "      <th>click</th>\n",
              "      <th>countrycode</th>\n",
              "      <th>datetime</th>\n",
              "      <th>devid</th>\n",
              "      <th>merchant</th>\n",
              "      <th>offerid</th>\n",
              "      <th>siteid</th>\n",
              "    </tr>\n",
              "  </thead>\n",
              "  <tbody>\n",
              "    <tr>\n",
              "      <th>0</th>\n",
              "      <td>IDsrk7SoW</td>\n",
              "      <td>Firefox</td>\n",
              "      <td>17714</td>\n",
              "      <td>0.0</td>\n",
              "      <td>e</td>\n",
              "      <td>2017-01-14 09:42:09</td>\n",
              "      <td>NaN</td>\n",
              "      <td>20301556</td>\n",
              "      <td>887235</td>\n",
              "      <td>4709696.0</td>\n",
              "    </tr>\n",
              "    <tr>\n",
              "      <th>1</th>\n",
              "      <td>IDmMSxHur</td>\n",
              "      <td>Mozilla Firefox</td>\n",
              "      <td>21407</td>\n",
              "      <td>0.0</td>\n",
              "      <td>b</td>\n",
              "      <td>2017-01-18 17:50:53</td>\n",
              "      <td>Desktop</td>\n",
              "      <td>9434818</td>\n",
              "      <td>178235</td>\n",
              "      <td>5189467.0</td>\n",
              "    </tr>\n",
              "    <tr>\n",
              "      <th>2</th>\n",
              "      <td>IDVLNN0Ut</td>\n",
              "      <td>Edge</td>\n",
              "      <td>25085</td>\n",
              "      <td>0.0</td>\n",
              "      <td>a</td>\n",
              "      <td>2017-01-11 12:46:49</td>\n",
              "      <td>NaN</td>\n",
              "      <td>2050923</td>\n",
              "      <td>518539</td>\n",
              "      <td>98480.0</td>\n",
              "    </tr>\n",
              "    <tr>\n",
              "      <th>3</th>\n",
              "      <td>ID32T6wwQ</td>\n",
              "      <td>Firefox</td>\n",
              "      <td>40339</td>\n",
              "      <td>0.0</td>\n",
              "      <td>c</td>\n",
              "      <td>2017-01-17 10:18:43</td>\n",
              "      <td>Mobile</td>\n",
              "      <td>72089744</td>\n",
              "      <td>390352</td>\n",
              "      <td>8896401.0</td>\n",
              "    </tr>\n",
              "    <tr>\n",
              "      <th>4</th>\n",
              "      <td>IDqUShzMg</td>\n",
              "      <td>Mozilla Firefox</td>\n",
              "      <td>12052</td>\n",
              "      <td>0.0</td>\n",
              "      <td>d</td>\n",
              "      <td>2017-01-14 16:02:33</td>\n",
              "      <td>Desktop</td>\n",
              "      <td>39507200</td>\n",
              "      <td>472937</td>\n",
              "      <td>5635120.0</td>\n",
              "    </tr>\n",
              "  </tbody>\n",
              "</table>\n",
              "</div>"
            ],
            "text/plain": [
              "          ID        browserid  category  click countrycode  \\\n",
              "0  IDsrk7SoW          Firefox     17714    0.0           e   \n",
              "1  IDmMSxHur  Mozilla Firefox     21407    0.0           b   \n",
              "2  IDVLNN0Ut             Edge     25085    0.0           a   \n",
              "3  ID32T6wwQ          Firefox     40339    0.0           c   \n",
              "4  IDqUShzMg  Mozilla Firefox     12052    0.0           d   \n",
              "\n",
              "              datetime    devid  merchant  offerid     siteid  \n",
              "0  2017-01-14 09:42:09      NaN  20301556   887235  4709696.0  \n",
              "1  2017-01-18 17:50:53  Desktop   9434818   178235  5189467.0  \n",
              "2  2017-01-11 12:46:49      NaN   2050923   518539    98480.0  \n",
              "3  2017-01-17 10:18:43   Mobile  72089744   390352  8896401.0  \n",
              "4  2017-01-14 16:02:33  Desktop  39507200   472937  5635120.0  "
            ]
          },
          "metadata": {
            "tags": []
          },
          "execution_count": 8
        }
      ]
    },
    {
      "cell_type": "code",
      "metadata": {
        "id": "DdhjxMPtBP2J",
        "colab_type": "code",
        "outputId": "c60d599b-22c5-4704-a402-871e3410543e",
        "colab": {
          "base_uri": "https://localhost:8080/",
          "height": 272
        }
      },
      "source": [
        "data.info()"
      ],
      "execution_count": 9,
      "outputs": [
        {
          "output_type": "stream",
          "text": [
            "<class 'pandas.core.frame.DataFrame'>\n",
            "Int64Index: 15844717 entries, 0 to 3706906\n",
            "Data columns (total 10 columns):\n",
            "ID             object\n",
            "browserid      object\n",
            "category       int64\n",
            "click          float64\n",
            "countrycode    object\n",
            "datetime       object\n",
            "devid          object\n",
            "merchant       int64\n",
            "offerid        int64\n",
            "siteid         float64\n",
            "dtypes: float64(2), int64(3), object(5)\n",
            "memory usage: 1.3+ GB\n"
          ],
          "name": "stdout"
        }
      ]
    },
    {
      "cell_type": "markdown",
      "metadata": {
        "id": "cC54NvbTbWpB",
        "colab_type": "text"
      },
      "source": [
        "## Data Preprocessing"
      ]
    },
    {
      "cell_type": "markdown",
      "metadata": {
        "id": "BGxoEnO7BP2X",
        "colab_type": "text"
      },
      "source": [
        "### Managing null values"
      ]
    },
    {
      "cell_type": "code",
      "metadata": {
        "id": "K6awmRszBP2Y",
        "colab_type": "code",
        "outputId": "648cf69b-9f06-479f-bb4a-15ae5aca51ee",
        "colab": {
          "base_uri": "https://localhost:8080/",
          "height": 204
        }
      },
      "source": [
        "data.isnull().sum() "
      ],
      "execution_count": 10,
      "outputs": [
        {
          "output_type": "execute_result",
          "data": {
            "text/plain": [
              "ID                   0\n",
              "browserid       830233\n",
              "category             0\n",
              "click          3706907\n",
              "countrycode          0\n",
              "datetime             0\n",
              "devid          2524918\n",
              "merchant             0\n",
              "offerid              0\n",
              "siteid         1583291\n",
              "dtype: int64"
            ]
          },
          "metadata": {
            "tags": []
          },
          "execution_count": 10
        }
      ]
    },
    {
      "cell_type": "code",
      "metadata": {
        "id": "ru9wxB8zBP2g",
        "colab_type": "code",
        "outputId": "e2f3bdfb-da91-405b-b205-d3814fa09474",
        "colab": {
          "base_uri": "https://localhost:8080/",
          "height": 221
        }
      },
      "source": [
        "data['browserid'].value_counts()"
      ],
      "execution_count": 11,
      "outputs": [
        {
          "output_type": "execute_result",
          "data": {
            "text/plain": [
              "Edge                 4463185\n",
              "Firefox              4327803\n",
              "Mozilla              1449150\n",
              "Mozilla Firefox      1304012\n",
              "InternetExplorer     1019073\n",
              "Google Chrome         950509\n",
              "IE                    450078\n",
              "Chrome                449874\n",
              "Internet Explorer     300663\n",
              "Opera                 150193\n",
              "Safari                149944\n",
              "Name: browserid, dtype: int64"
            ]
          },
          "metadata": {
            "tags": []
          },
          "execution_count": 11
        }
      ]
    },
    {
      "cell_type": "code",
      "metadata": {
        "id": "0GL8aJdYBP2m",
        "colab_type": "code",
        "outputId": "0b0ed1d5-efef-4be7-d150-d3060d70ed67",
        "colab": {
          "base_uri": "https://localhost:8080/",
          "height": 85
        }
      },
      "source": [
        "data['devid'].value_counts()"
      ],
      "execution_count": 12,
      "outputs": [
        {
          "output_type": "execute_result",
          "data": {
            "text/plain": [
              "Mobile     5215690\n",
              "Tablet     4361636\n",
              "Desktop    3742473\n",
              "Name: devid, dtype: int64"
            ]
          },
          "metadata": {
            "tags": []
          },
          "execution_count": 12
        }
      ]
    },
    {
      "cell_type": "markdown",
      "metadata": {
        "id": "4px73Xe9BP2u",
        "colab_type": "text"
      },
      "source": [
        "#### Impute browserid and devid with mode of the respective columns"
      ]
    },
    {
      "cell_type": "code",
      "metadata": {
        "id": "bqTPFjdsBP2v",
        "colab_type": "code",
        "colab": {}
      },
      "source": [
        "data['browserid'].fillna(data['browserid'].mode()[0],inplace=True) "
      ],
      "execution_count": 0,
      "outputs": []
    },
    {
      "cell_type": "code",
      "metadata": {
        "id": "N9llG0UmBP2z",
        "colab_type": "code",
        "colab": {}
      },
      "source": [
        "data['devid'].fillna(data['devid'].mode()[0],inplace=True) "
      ],
      "execution_count": 0,
      "outputs": []
    },
    {
      "cell_type": "code",
      "metadata": {
        "id": "LiK0p5IqBP3A",
        "colab_type": "code",
        "outputId": "28f76ac7-9132-4a0b-f022-c33bce590aa5",
        "colab": {
          "base_uri": "https://localhost:8080/",
          "height": 384
        }
      },
      "source": [
        "plt.hist(data['siteid'].dropna())"
      ],
      "execution_count": 11,
      "outputs": [
        {
          "output_type": "execute_result",
          "data": {
            "text/plain": [
              "(array([1358489., 1467781., 1371435., 1518536., 1417569., 1317604.,\n",
              "        1424025., 1510092., 1445805., 1430090.]),\n",
              " array([7.1000000e+01, 1.0000635e+06, 2.0000560e+06, 3.0000485e+06,\n",
              "        4.0000410e+06, 5.0000335e+06, 6.0000260e+06, 7.0000185e+06,\n",
              "        8.0000110e+06, 9.0000035e+06, 9.9999960e+06]),\n",
              " <a list of 10 Patch objects>)"
            ]
          },
          "metadata": {
            "tags": []
          },
          "execution_count": 11
        },
        {
          "output_type": "display_data",
          "data": {
            "image/png": "[encoded data removed]",
            "text/plain": [
              "<Figure size 432x288 with 1 Axes>"
            ]
          },
          "metadata": {
            "tags": []
          }
        }
      ]
    },
    {
      "cell_type": "markdown",
      "metadata": {
        "id": "jFJW2hqkBP3S",
        "colab_type": "text"
      },
      "source": [
        "#### The siteid has an almost uniform distribution with no specific trends. So, we impute this column with the mean."
      ]
    },
    {
      "cell_type": "code",
      "metadata": {
        "id": "H1x8WUX-BP3T",
        "colab_type": "code",
        "colab": {}
      },
      "source": [
        "data['siteid'].fillna(data['siteid'].mean(),inplace=True) \n",
        "data['countrycode'].fillna(data['countrycode'].mode(),inplace=True)"
      ],
      "execution_count": 0,
      "outputs": []
    },
    {
      "cell_type": "code",
      "metadata": {
        "id": "4rQo2gIuCtcR",
        "colab_type": "code",
        "outputId": "9f58588d-c8fb-4b1c-97bd-d8c412e642d7",
        "colab": {
          "base_uri": "https://localhost:8080/",
          "height": 204
        }
      },
      "source": [
        "data.isnull().sum() "
      ],
      "execution_count": 0,
      "outputs": [
        {
          "output_type": "execute_result",
          "data": {
            "text/plain": [
              "ID                   0\n",
              "browserid            0\n",
              "category             0\n",
              "click          3706907\n",
              "countrycode          0\n",
              "datetime             0\n",
              "devid                0\n",
              "merchant             0\n",
              "offerid              0\n",
              "siteid               0\n",
              "dtype: int64"
            ]
          },
          "metadata": {
            "tags": []
          },
          "execution_count": 17
        }
      ]
    },
    {
      "cell_type": "code",
      "metadata": {
        "id": "W5dGYB_TBP3Y",
        "colab_type": "code",
        "outputId": "a0439ce3-cdad-4c22-fce6-95c124f9a7a1",
        "colab": {
          "base_uri": "https://localhost:8080/",
          "height": 371
        }
      },
      "source": [
        "plt.hist(data['category'])"
      ],
      "execution_count": 16,
      "outputs": [
        {
          "output_type": "execute_result",
          "data": {
            "text/plain": [
              "(array([2846403., 1886969., 1091373., 1261000., 3615103.,  830065.,\n",
              "         688758.,  905323., 1377126., 1342597.]),\n",
              " array([9.70000e+01, 1.00787e+04, 2.00604e+04, 3.00421e+04, 4.00238e+04,\n",
              "        5.00055e+04, 5.99872e+04, 6.99689e+04, 7.99506e+04, 8.99323e+04,\n",
              "        9.99140e+04]),\n",
              " <a list of 10 Patch objects>)"
            ]
          },
          "metadata": {
            "tags": []
          },
          "execution_count": 16
        },
        {
          "output_type": "display_data",
          "data": {
            "image/png": "[encoded data removed]",
            "text/plain": [
              "<Figure size 432x288 with 1 Axes>"
            ]
          },
          "metadata": {
            "tags": []
          }
        }
      ]
    },
    {
      "cell_type": "markdown",
      "metadata": {
        "id": "9oErWVSZBP3e",
        "colab_type": "text"
      },
      "source": [
        "### Encoding categorical variables"
      ]
    },
    {
      "cell_type": "code",
      "metadata": {
        "id": "b7wylVpQBP3f",
        "colab_type": "code",
        "colab": {}
      },
      "source": [
        "from sklearn import preprocessing\n",
        "encoder=preprocessing.LabelEncoder()\n",
        "data['browserid']=pd.Series(encoder.fit_transform(data['browserid']))\n",
        "data['devid']=pd.Series(encoder.fit_transform(data['devid']))\n",
        "data['countrycode']=pd.Series(encoder.fit_transform(data['countrycode'])) "
      ],
      "execution_count": 0,
      "outputs": []
    },
    {
      "cell_type": "code",
      "metadata": {
        "id": "oCQU91HWBP3i",
        "colab_type": "code",
        "outputId": "c14708b5-d57a-4d2c-c709-6b45fde387f2",
        "colab": {
          "base_uri": "https://localhost:8080/",
          "height": 204
        }
      },
      "source": [
        "data.head()"
      ],
      "execution_count": 0,
      "outputs": [
        {
          "output_type": "execute_result",
          "data": {
            "text/html": [
              "<div>\n",
              "<style scoped>\n",
              "    .dataframe tbody tr th:only-of-type {\n",
              "        vertical-align: middle;\n",
              "    }\n",
              "\n",
              "    .dataframe tbody tr th {\n",
              "        vertical-align: top;\n",
              "    }\n",
              "\n",
              "    .dataframe thead th {\n",
              "        text-align: right;\n",
              "    }\n",
              "</style>\n",
              "<table border=\"1\" class=\"dataframe\">\n",
              "  <thead>\n",
              "    <tr style=\"text-align: right;\">\n",
              "      <th></th>\n",
              "      <th>ID</th>\n",
              "      <th>browserid</th>\n",
              "      <th>category</th>\n",
              "      <th>click</th>\n",
              "      <th>countrycode</th>\n",
              "      <th>datetime</th>\n",
              "      <th>devid</th>\n",
              "      <th>merchant</th>\n",
              "      <th>offerid</th>\n",
              "      <th>siteid</th>\n",
              "    </tr>\n",
              "  </thead>\n",
              "  <tbody>\n",
              "    <tr>\n",
              "      <th>0</th>\n",
              "      <td>IDsrk7SoW</td>\n",
              "      <td>2</td>\n",
              "      <td>17714</td>\n",
              "      <td>0.0</td>\n",
              "      <td>4</td>\n",
              "      <td>2017-01-14 09:42:09</td>\n",
              "      <td>1</td>\n",
              "      <td>20301556</td>\n",
              "      <td>887235</td>\n",
              "      <td>4709696.0</td>\n",
              "    </tr>\n",
              "    <tr>\n",
              "      <th>1</th>\n",
              "      <td>IDmMSxHur</td>\n",
              "      <td>8</td>\n",
              "      <td>21407</td>\n",
              "      <td>0.0</td>\n",
              "      <td>1</td>\n",
              "      <td>2017-01-18 17:50:53</td>\n",
              "      <td>0</td>\n",
              "      <td>9434818</td>\n",
              "      <td>178235</td>\n",
              "      <td>5189467.0</td>\n",
              "    </tr>\n",
              "    <tr>\n",
              "      <th>2</th>\n",
              "      <td>IDVLNN0Ut</td>\n",
              "      <td>1</td>\n",
              "      <td>25085</td>\n",
              "      <td>0.0</td>\n",
              "      <td>0</td>\n",
              "      <td>2017-01-11 12:46:49</td>\n",
              "      <td>1</td>\n",
              "      <td>2050923</td>\n",
              "      <td>518539</td>\n",
              "      <td>98480.0</td>\n",
              "    </tr>\n",
              "    <tr>\n",
              "      <th>3</th>\n",
              "      <td>ID32T6wwQ</td>\n",
              "      <td>2</td>\n",
              "      <td>40339</td>\n",
              "      <td>0.0</td>\n",
              "      <td>2</td>\n",
              "      <td>2017-01-17 10:18:43</td>\n",
              "      <td>1</td>\n",
              "      <td>72089744</td>\n",
              "      <td>390352</td>\n",
              "      <td>8896401.0</td>\n",
              "    </tr>\n",
              "    <tr>\n",
              "      <th>4</th>\n",
              "      <td>IDqUShzMg</td>\n",
              "      <td>8</td>\n",
              "      <td>12052</td>\n",
              "      <td>0.0</td>\n",
              "      <td>3</td>\n",
              "      <td>2017-01-14 16:02:33</td>\n",
              "      <td>0</td>\n",
              "      <td>39507200</td>\n",
              "      <td>472937</td>\n",
              "      <td>5635120.0</td>\n",
              "    </tr>\n",
              "  </tbody>\n",
              "</table>\n",
              "</div>"
            ],
            "text/plain": [
              "          ID  browserid  category  click  countrycode             datetime  \\\n",
              "0  IDsrk7SoW          2     17714    0.0            4  2017-01-14 09:42:09   \n",
              "1  IDmMSxHur          8     21407    0.0            1  2017-01-18 17:50:53   \n",
              "2  IDVLNN0Ut          1     25085    0.0            0  2017-01-11 12:46:49   \n",
              "3  ID32T6wwQ          2     40339    0.0            2  2017-01-17 10:18:43   \n",
              "4  IDqUShzMg          8     12052    0.0            3  2017-01-14 16:02:33   \n",
              "\n",
              "   devid  merchant  offerid     siteid  \n",
              "0      1  20301556   887235  4709696.0  \n",
              "1      0   9434818   178235  5189467.0  \n",
              "2      1   2050923   518539    98480.0  \n",
              "3      1  72089744   390352  8896401.0  \n",
              "4      0  39507200   472937  5635120.0  "
            ]
          },
          "metadata": {
            "tags": []
          },
          "execution_count": 13
        }
      ]
    },
    {
      "cell_type": "markdown",
      "metadata": {
        "id": "gungsLUJBP3o",
        "colab_type": "text"
      },
      "source": [
        "#### Extract the day of the week and hour from the datetime column"
      ]
    },
    {
      "cell_type": "code",
      "metadata": {
        "id": "qsOvFkdJBP3q",
        "colab_type": "code",
        "colab": {}
      },
      "source": [
        "data['day']=pd.to_datetime(data['datetime']).dt.weekday_name "
      ],
      "execution_count": 0,
      "outputs": []
    },
    {
      "cell_type": "code",
      "metadata": {
        "id": "OVlvk5UwBP3v",
        "colab_type": "code",
        "colab": {}
      },
      "source": [
        "data['hour']=pd.to_datetime(data['datetime']).dt.hour"
      ],
      "execution_count": 0,
      "outputs": []
    },
    {
      "cell_type": "code",
      "metadata": {
        "id": "txFxH7qfBP30",
        "colab_type": "code",
        "colab": {}
      },
      "source": [
        "encoder=preprocessing.LabelEncoder()\n",
        "data['day']=pd.Series(encoder.fit_transform(data['day'])) "
      ],
      "execution_count": 0,
      "outputs": []
    },
    {
      "cell_type": "code",
      "metadata": {
        "id": "8QqUVAWzBP35",
        "colab_type": "code",
        "outputId": "9c9f87a4-4493-425f-861e-a64e629366aa",
        "colab": {
          "base_uri": "https://localhost:8080/",
          "height": 204
        }
      },
      "source": [
        "data.head()"
      ],
      "execution_count": 0,
      "outputs": [
        {
          "output_type": "execute_result",
          "data": {
            "text/html": [
              "<div>\n",
              "<style scoped>\n",
              "    .dataframe tbody tr th:only-of-type {\n",
              "        vertical-align: middle;\n",
              "    }\n",
              "\n",
              "    .dataframe tbody tr th {\n",
              "        vertical-align: top;\n",
              "    }\n",
              "\n",
              "    .dataframe thead th {\n",
              "        text-align: right;\n",
              "    }\n",
              "</style>\n",
              "<table border=\"1\" class=\"dataframe\">\n",
              "  <thead>\n",
              "    <tr style=\"text-align: right;\">\n",
              "      <th></th>\n",
              "      <th>ID</th>\n",
              "      <th>browserid</th>\n",
              "      <th>category</th>\n",
              "      <th>click</th>\n",
              "      <th>countrycode</th>\n",
              "      <th>datetime</th>\n",
              "      <th>devid</th>\n",
              "      <th>merchant</th>\n",
              "      <th>offerid</th>\n",
              "      <th>siteid</th>\n",
              "      <th>day</th>\n",
              "      <th>hour</th>\n",
              "    </tr>\n",
              "  </thead>\n",
              "  <tbody>\n",
              "    <tr>\n",
              "      <th>0</th>\n",
              "      <td>IDsrk7SoW</td>\n",
              "      <td>2</td>\n",
              "      <td>17714</td>\n",
              "      <td>0.0</td>\n",
              "      <td>4</td>\n",
              "      <td>2017-01-14 09:42:09</td>\n",
              "      <td>1</td>\n",
              "      <td>20301556</td>\n",
              "      <td>887235</td>\n",
              "      <td>4709696.0</td>\n",
              "      <td>2</td>\n",
              "      <td>9</td>\n",
              "    </tr>\n",
              "    <tr>\n",
              "      <th>1</th>\n",
              "      <td>IDmMSxHur</td>\n",
              "      <td>8</td>\n",
              "      <td>21407</td>\n",
              "      <td>0.0</td>\n",
              "      <td>1</td>\n",
              "      <td>2017-01-18 17:50:53</td>\n",
              "      <td>0</td>\n",
              "      <td>9434818</td>\n",
              "      <td>178235</td>\n",
              "      <td>5189467.0</td>\n",
              "      <td>6</td>\n",
              "      <td>17</td>\n",
              "    </tr>\n",
              "    <tr>\n",
              "      <th>2</th>\n",
              "      <td>IDVLNN0Ut</td>\n",
              "      <td>1</td>\n",
              "      <td>25085</td>\n",
              "      <td>0.0</td>\n",
              "      <td>0</td>\n",
              "      <td>2017-01-11 12:46:49</td>\n",
              "      <td>1</td>\n",
              "      <td>2050923</td>\n",
              "      <td>518539</td>\n",
              "      <td>98480.0</td>\n",
              "      <td>6</td>\n",
              "      <td>12</td>\n",
              "    </tr>\n",
              "    <tr>\n",
              "      <th>3</th>\n",
              "      <td>ID32T6wwQ</td>\n",
              "      <td>2</td>\n",
              "      <td>40339</td>\n",
              "      <td>0.0</td>\n",
              "      <td>2</td>\n",
              "      <td>2017-01-17 10:18:43</td>\n",
              "      <td>1</td>\n",
              "      <td>72089744</td>\n",
              "      <td>390352</td>\n",
              "      <td>8896401.0</td>\n",
              "      <td>5</td>\n",
              "      <td>10</td>\n",
              "    </tr>\n",
              "    <tr>\n",
              "      <th>4</th>\n",
              "      <td>IDqUShzMg</td>\n",
              "      <td>8</td>\n",
              "      <td>12052</td>\n",
              "      <td>0.0</td>\n",
              "      <td>3</td>\n",
              "      <td>2017-01-14 16:02:33</td>\n",
              "      <td>0</td>\n",
              "      <td>39507200</td>\n",
              "      <td>472937</td>\n",
              "      <td>5635120.0</td>\n",
              "      <td>2</td>\n",
              "      <td>16</td>\n",
              "    </tr>\n",
              "  </tbody>\n",
              "</table>\n",
              "</div>"
            ],
            "text/plain": [
              "          ID  browserid  category  click  countrycode             datetime  \\\n",
              "0  IDsrk7SoW          2     17714    0.0            4  2017-01-14 09:42:09   \n",
              "1  IDmMSxHur          8     21407    0.0            1  2017-01-18 17:50:53   \n",
              "2  IDVLNN0Ut          1     25085    0.0            0  2017-01-11 12:46:49   \n",
              "3  ID32T6wwQ          2     40339    0.0            2  2017-01-17 10:18:43   \n",
              "4  IDqUShzMg          8     12052    0.0            3  2017-01-14 16:02:33   \n",
              "\n",
              "   devid  merchant  offerid     siteid  day  hour  \n",
              "0      1  20301556   887235  4709696.0    2     9  \n",
              "1      0   9434818   178235  5189467.0    6    17  \n",
              "2      1   2050923   518539    98480.0    6    12  \n",
              "3      1  72089744   390352  8896401.0    5    10  \n",
              "4      0  39507200   472937  5635120.0    2    16  "
            ]
          },
          "metadata": {
            "tags": []
          },
          "execution_count": 18
        }
      ]
    },
    {
      "cell_type": "markdown",
      "metadata": {
        "id": "IlsBm88IbHyd",
        "colab_type": "text"
      },
      "source": [
        "#### Plot the correlation map to look for dependencies among the features"
      ]
    },
    {
      "cell_type": "code",
      "metadata": {
        "id": "mvGQ2eJvBP4E",
        "colab_type": "code",
        "outputId": "f7d88d01-b6b1-4beb-f828-b396338342f2",
        "colab": {
          "base_uri": "https://localhost:8080/",
          "height": 338
        }
      },
      "source": [
        "import seaborn as sns\n",
        "p=data.corr()\n",
        "sns.heatmap(p)"
      ],
      "execution_count": 0,
      "outputs": [
        {
          "output_type": "execute_result",
          "data": {
            "text/plain": [
              "<matplotlib.axes._subplots.AxesSubplot at 0x7ff3b0d77438>"
            ]
          },
          "metadata": {
            "tags": []
          },
          "execution_count": 26
        },
        {
          "output_type": "display_data",
          "data": {
            "image/png": "[encoded data removed]",
            "text/plain": [
              "<Figure size 432x288 with 2 Axes>"
            ]
          },
          "metadata": {
            "tags": []
          }
        }
      ]
    },
    {
      "cell_type": "markdown",
      "metadata": {
        "id": "gtPYNmdMbPKv",
        "colab_type": "text"
      },
      "source": [
        "## Training"
      ]
    },
    {
      "cell_type": "code",
      "metadata": {
        "id": "NjhrpXG7BP4J",
        "colab_type": "code",
        "colab": {}
      },
      "source": [
        "needed_cols=['browserid','category','countrycode','devid','merchant','offerid','siteid','day','hour']"
      ],
      "execution_count": 0,
      "outputs": []
    },
    {
      "cell_type": "code",
      "metadata": {
        "id": "SOivPRc4BP4U",
        "colab_type": "code",
        "colab": {}
      },
      "source": [
        "from sklearn.model_selection import train_test_split\n",
        "X_train,X_val,y_train,y_val=train_test_split(data[needed_cols].iloc[:train.shape[0]],data['click'].iloc[:train.shape[0]],test_size=0.3,random_state=123)"
      ],
      "execution_count": 0,
      "outputs": []
    },
    {
      "cell_type": "markdown",
      "metadata": {
        "id": "kesrFOKWB4Qv",
        "colab_type": "text"
      },
      "source": [
        "### Random Forest Classifier"
      ]
    },
    {
      "cell_type": "code",
      "metadata": {
        "id": "md5eCF4hBNVb",
        "colab_type": "code",
        "colab": {}
      },
      "source": [
        "from sklearn.ensemble import RandomForestClassifier\n",
        "\n",
        "rf=RandomForestClassifier(n_estimators=5,max_depth=5)\n",
        "rf.fit(X_train,y_train)"
      ],
      "execution_count": 0,
      "outputs": []
    },
    {
      "cell_type": "code",
      "metadata": {
        "id": "rUkkYn7yDb9A",
        "colab_type": "code",
        "colab": {
          "base_uri": "https://localhost:8080/",
          "height": 380
        },
        "outputId": "4abf895a-deca-4b7a-916f-3928c547ee2b"
      },
      "source": [
        "preds_rf = np.round(rf.predict(X_val))\n",
        "acc_rf=accuracy_score(y_val,preds_rf)  \n",
        "auc_rf=roc_auc_score(y_val,preds_rf)\n",
        "print(\"Results of Random Forest Classifier : \")\n",
        "print(\"Accuracy = \"+str(acc_rf))\n",
        "print(\"AUC score = \"+str(auc_rf))\n",
        "print(confusion_matrix(y_val,preds_rf))\n",
        "fpr,tpr,_=roc_curve(y_val,preds_rf)\n",
        "plt.plot(fpr,tpr)\n",
        "plt.title(\"ROC Curve\")\n",
        "plt.xlabel(\"FPR\")\n",
        "plt.ylabel(\"TPR\") \n",
        "plt.show() "
      ],
      "execution_count": 43,
      "outputs": [
        {
          "output_type": "stream",
          "text": [
            "Results of Random Forest Classifier : \n",
            "Accuracy = 0.9688881272651326\n",
            "AUC score = 0.5780117057729955\n",
            "[[3507437    2324]\n",
            " [ 110965   20617]]\n"
          ],
          "name": "stdout"
        },
        {
          "output_type": "display_data",
          "data": {
            "image/png": "[encoded data removed]",
            "text/plain": [
              "<Figure size 432x288 with 1 Axes>"
            ]
          },
          "metadata": {
            "tags": []
          }
        }
      ]
    },
    {
      "cell_type": "markdown",
      "metadata": {
        "id": "4Kexfy6nbdYW",
        "colab_type": "text"
      },
      "source": [
        "### XGBoost"
      ]
    },
    {
      "cell_type": "code",
      "metadata": {
        "id": "FdAtEU3M-WY9",
        "colab_type": "code",
        "colab": {}
      },
      "source": [
        "import xgboost as xgb\n",
        "xg=xgb.XGBClassifier(objective ='binary:logistic', colsample_bytree = 0.5, learning_rate = 0.1,\\\n",
        "                          max_depth = 10, alpha = 0, n_estimators = 10,eval_metric='auc')\n",
        "xg.fit(X_train,y_train) "
      ],
      "execution_count": 0,
      "outputs": []
    },
    {
      "cell_type": "code",
      "metadata": {
        "id": "QdsEDYaOU0h6",
        "colab_type": "code",
        "outputId": "397b2afd-cff3-42be-e572-9d25a235c9e6",
        "colab": {
          "base_uri": "https://localhost:8080/",
          "height": 380
        }
      },
      "source": [
        "preds_xgb = np.round(xg.predict(X_val))\n",
        "acc_xgb=accuracy_score(y_val,preds_xgb)  \n",
        "auc_xgb=roc_auc_score(y_val,preds_xgb)\n",
        "print(\"Results of XGBoost with balanced classes : \")\n",
        "print(\"Accuracy = \"+str(acc_xgb))\n",
        "print(\"AUC score = \"+str(auc_xgb))\n",
        "print(confusion_matrix(y_val,preds_xgb))\n",
        "fpr,tpr,_=roc_curve(y_val,preds_xgb)\n",
        "plt.plot(fpr,tpr)\n",
        "plt.title(\"ROC Curve\")\n",
        "plt.xlabel(\"FPR\")\n",
        "plt.ylabel(\"TPR\") \n",
        "plt.show() "
      ],
      "execution_count": 0,
      "outputs": [
        {
          "output_type": "stream",
          "text": [
            "Results of XGBoost with balanced classes : \n",
            "Accuracy = 0.9729956776936421\n",
            "AUC score = 0.6540742123549866\n",
            "[[3502180    7581]\n",
            " [  90751   40831]]\n"
          ],
          "name": "stdout"
        },
        {
          "output_type": "display_data",
          "data": {
            "image/png": "[encoded data removed]",
            "text/plain": [
              "<Figure size 432x288 with 1 Axes>"
            ]
          },
          "metadata": {
            "tags": []
          }
        }
      ]
    },
    {
      "cell_type": "markdown",
      "metadata": {
        "id": "UEcUH22pbgs0",
        "colab_type": "text"
      },
      "source": [
        "### LightGBM"
      ]
    },
    {
      "cell_type": "code",
      "metadata": {
        "id": "lmPBQy391G-G",
        "colab_type": "code",
        "colab": {}
      },
      "source": [
        "import lightgbm as lgb"
      ],
      "execution_count": 0,
      "outputs": []
    },
    {
      "cell_type": "code",
      "metadata": {
        "id": "4uGSU_PA1IOZ",
        "colab_type": "code",
        "colab": {}
      },
      "source": [
        "dtrain = lgb.Dataset(X_train, y_train)\n",
        "dval = lgb.Dataset(X_val, y_val)"
      ],
      "execution_count": 0,
      "outputs": []
    },
    {
      "cell_type": "code",
      "metadata": {
        "id": "q_MlqCAeNFJB",
        "colab_type": "code",
        "colab": {}
      },
      "source": [
        "params = {\n",
        "    \n",
        "    'num_leaves' : 256,\n",
        "    'learning_rate':0.03,\n",
        "    'metric':'auc',\n",
        "    'objective':'binary',\n",
        "    'early_stopping_round': 40,\n",
        "    'max_depth':10,\n",
        "    'bagging_fraction':0.5,\n",
        "    'feature_fraction':0.6,\n",
        "    'bagging_seed':2017,\n",
        "    'feature_fraction_seed':2017,\n",
        "    'verbose' : 1   \n",
        "}"
      ],
      "execution_count": 0,
      "outputs": []
    },
    {
      "cell_type": "code",
      "metadata": {
        "id": "YqJIPiykNJ9I",
        "colab_type": "code",
        "outputId": "25a99511-bed6-40c5-c50d-07f8dca38eb7",
        "colab": {
          "base_uri": "https://localhost:8080/",
          "height": 272
        }
      },
      "source": [
        "clf = lgb.train(params, dtrain,num_boost_round=200,valid_sets=dval,verbose_eval=20)"
      ],
      "execution_count": 0,
      "outputs": [
        {
          "output_type": "stream",
          "text": [
            "/usr/local/lib/python3.6/dist-packages/lightgbm/engine.py:123: UserWarning: Found `early_stopping_round` in params. Will use it instead of argument\n",
            "  warnings.warn(\"Found `{}` in params. Will use it instead of argument\".format(alias))\n"
          ],
          "name": "stderr"
        },
        {
          "output_type": "stream",
          "text": [
            "Training until validation scores don't improve for 40 rounds.\n",
            "[20]\tvalid_0's auc: 0.967775\n",
            "[40]\tvalid_0's auc: 0.969927\n",
            "[60]\tvalid_0's auc: 0.971411\n",
            "[80]\tvalid_0's auc: 0.971772\n",
            "[100]\tvalid_0's auc: 0.972145\n",
            "[120]\tvalid_0's auc: 0.972339\n",
            "[140]\tvalid_0's auc: 0.972555\n",
            "[160]\tvalid_0's auc: 0.972785\n",
            "[180]\tvalid_0's auc: 0.972963\n",
            "[200]\tvalid_0's auc: 0.973135\n",
            "Did not meet early stopping. Best iteration is:\n",
            "[200]\tvalid_0's auc: 0.973135\n"
          ],
          "name": "stdout"
        }
      ]
    },
    {
      "cell_type": "code",
      "metadata": {
        "id": "pMFaKj--NO1J",
        "colab_type": "code",
        "colab": {}
      },
      "source": [
        "from sklearn.metrics import accuracy_score,f1_score,roc_curve,roc_auc_score,confusion_matrix\n",
        "preds_lgb = np.round(clf.predict(X_val))\n",
        "acc_lgb=accuracy_score(y_val,preds_lgb)  "
      ],
      "execution_count": 0,
      "outputs": []
    },
    {
      "cell_type": "code",
      "metadata": {
        "id": "MEYlOALePHX4",
        "colab_type": "code",
        "outputId": "d44176ae-bec2-4e14-fa53-5b3e0f9fdb5e",
        "colab": {
          "base_uri": "https://localhost:8080/",
          "height": 380
        }
      },
      "source": [
        "auc_lgb=roc_auc_score(y_val,preds_lgb)\n",
        "print(\"Results of LightGBM : \")\n",
        "print(\"Accuracy = \"+str(acc_lgb))\n",
        "print(\"AUC score = \"+str(auc_lgb))\n",
        "print(confusion_matrix(y_val,preds_lgb))\n",
        "fpr,tpr,_=roc_curve(y_val,preds_lgb)\n",
        "plt.plot(fpr,tpr)\n",
        "plt.title(\"ROC Curve\")\n",
        "plt.xlabel(\"FPR\")\n",
        "plt.ylabel(\"TPR\") \n",
        "plt.show() "
      ],
      "execution_count": 0,
      "outputs": [
        {
          "output_type": "stream",
          "text": [
            "Results of LightGBM : \n",
            "Accuracy = 0.9789418354711434\n",
            "AUC score = 0.7853012411180909\n",
            "[[3488796   20965]\n",
            " [  55715   75867]]\n"
          ],
          "name": "stdout"
        },
        {
          "output_type": "display_data",
          "data": {
            "image/png": "[encoded data removed]",
            "text/plain": [
              "<Figure size 432x288 with 1 Axes>"
            ]
          },
          "metadata": {
            "tags": []
          }
        }
      ]
    },
    {
      "cell_type": "markdown",
      "metadata": {
        "id": "TwZT-AVJVw0G",
        "colab_type": "text"
      },
      "source": [
        "## Improving AUC Score for skewed classes"
      ]
    },
    {
      "cell_type": "markdown",
      "metadata": {
        "id": "RT0avc0n3adq",
        "colab_type": "text"
      },
      "source": [
        "### Logistic Regression with weighted cost function\n",
        "We implement logistic regression with a modified cost function and gradient update rule. We penalize the algorithm by a larger amount for predicting samples of the rare class wrongly.\n",
        "\n"
      ]
    },
    {
      "cell_type": "code",
      "metadata": {
        "id": "4l-46bMLsswP",
        "colab_type": "code",
        "colab": {}
      },
      "source": [
        "class Log_Regression:\n",
        "    def __init__(self, lr=0.01, num_iter=100000, fit_intercept=True):\n",
        "        self.lr = lr\n",
        "        self.num_iter = num_iter\n",
        "        self.fit_intercept = fit_intercept\n",
        "    \n",
        "    def __add_intercept(self, X):\n",
        "        intercept = np.ones((X.shape[0], 1))\n",
        "        return np.concatenate((intercept, X), axis=1)\n",
        "    \n",
        "    def __sigmoid(self, z):\n",
        "        return 1 / (1 + np.exp(-z))\n",
        "    def __loss(self, h, y):\n",
        "        return (-1000*y * np.log(0.001+h) - (1 - y) * np.log(1.001 - h)).mean()\n",
        "    \n",
        "    def fit(self, X, y):\n",
        "        if self.fit_intercept:\n",
        "            X = self.__add_intercept(X)\n",
        "        \n",
        "        # weights initialization\n",
        "        self.theta = np.zeros(X.shape[1])\n",
        "        \n",
        "        for i in range(self.num_iter):\n",
        "            z = np.dot(X, self.theta)\n",
        "            h = self.__sigmoid(z)\n",
        "            #gradient = np.dot(X.T, (h - y)) / y.size\n",
        "            gradient=-1000*np.dot(X.T,(1-h)*y)+np.dot(X.T,(1-y)*h)\n",
        "            self.theta -= self.lr * gradient\n",
        "        \n",
        "            if(i % 10000 == 0):\n",
        "                z = np.dot(X, self.theta)\n",
        "                h = self.__sigmoid(z)\n",
        "                print(f'loss: {self.__loss(h, y)} \\t')\n",
        "    \n",
        "    def predict_prob(self, X):\n",
        "        if self.fit_intercept:\n",
        "            X = self.__add_intercept(X)\n",
        "    \n",
        "        return self.__sigmoid(np.dot(X, self.theta))\n",
        "    \n",
        "    def predict(self, X, threshold):\n",
        "        return self.predict_prob(X) >= threshold"
      ],
      "execution_count": 0,
      "outputs": []
    },
    {
      "cell_type": "code",
      "metadata": {
        "id": "tG14zhwMss4Z",
        "colab_type": "code",
        "colab": {
          "base_uri": "https://localhost:8080/",
          "height": 68
        },
        "outputId": "7ff7277f-09b2-47ab-c435-8ac241595b9e"
      },
      "source": [
        "model = Log_Regression(lr=0.1, num_iter=800)\n",
        "model.fit(X_train, y_train) "
      ],
      "execution_count": 21,
      "outputs": [
        {
          "output_type": "stream",
          "text": [
            "loss: 6.623318188639904 \t\n"
          ],
          "name": "stdout"
        },
        {
          "output_type": "stream",
          "text": [
            "/usr/local/lib/python3.6/dist-packages/ipykernel_launcher.py:12: RuntimeWarning: overflow encountered in exp\n",
            "  if sys.path[0] == '':\n"
          ],
          "name": "stderr"
        }
      ]
    },
    {
      "cell_type": "code",
      "metadata": {
        "id": "1ulRIn4estBL",
        "colab_type": "code",
        "colab": {}
      },
      "source": [
        "preds_lr_modd = model.predict(X_val,threshold=0.5)  \n",
        "preds_lr_modd = (preds_lr_modd==0).astype(int)"
      ],
      "execution_count": 0,
      "outputs": []
    },
    {
      "cell_type": "code",
      "metadata": {
        "id": "_Fro8rHV5RgH",
        "colab_type": "code",
        "colab": {
          "base_uri": "https://localhost:8080/",
          "height": 34
        },
        "outputId": "b045a134-442f-46d6-8ef1-e652b7e888b7"
      },
      "source": [
        "preds_lr_modd"
      ],
      "execution_count": 25,
      "outputs": [
        {
          "output_type": "execute_result",
          "data": {
            "text/plain": [
              "array([0, 0, 0, ..., 0, 0, 0])"
            ]
          },
          "metadata": {
            "tags": []
          },
          "execution_count": 25
        }
      ]
    },
    {
      "cell_type": "code",
      "metadata": {
        "id": "8FhjrgEestKF",
        "colab_type": "code",
        "colab": {
          "base_uri": "https://localhost:8080/",
          "height": 34
        },
        "outputId": "530857f5-8522-430c-d238-a38a16f3725c"
      },
      "source": [
        "from sklearn.metrics import accuracy_score, roc_curve, roc_auc_score\n",
        "acc_lnew=accuracy_score(y_val,preds_lr_modd)  \n",
        "auc_lnew=roc_auc_score(y_val,preds_lr_modd)\n",
        "print(acc_lnew,auc_lnew)"
      ],
      "execution_count": 27,
      "outputs": [
        {
          "output_type": "stream",
          "text": [
            "0.9638644313375587 0.5\n"
          ],
          "name": "stdout"
        }
      ]
    },
    {
      "cell_type": "markdown",
      "metadata": {
        "id": "5r9D1rdB5jkw",
        "colab_type": "text"
      },
      "source": [
        "Though the accuracy is high, the AUC score is poor, which is a clear case ofoverfitting. We solve this issue in the next attempt."
      ]
    },
    {
      "cell_type": "markdown",
      "metadata": {
        "id": "4ofoQRHIxz_P",
        "colab_type": "text"
      },
      "source": [
        "### XGBoost with balanced dataset\n",
        "We see that improving the AUC score of the model with a skewed dataset is not easy. Therefore, we create a dataset with equal number of positive and negative samples by undersampling the available dataset and feed it to the XGBoost algorithm.\n",
        "\n"
      ]
    },
    {
      "cell_type": "code",
      "metadata": {
        "id": "bSbT4RC6TIfy",
        "colab_type": "code",
        "colab": {}
      },
      "source": [
        "data_mod = data[data['click']==1]\n",
        "data_mod=pd.concat([data[data['click']==0][:437214],data_mod],axis=0)\n",
        "X_train,X_val,y_train,y_val=train_test_split(data_mod[needed_cols],data_mod['click'],test_size=0.3,random_state=123) "
      ],
      "execution_count": 0,
      "outputs": []
    },
    {
      "cell_type": "code",
      "metadata": {
        "id": "s7xXmd8AT0yF",
        "colab_type": "code",
        "outputId": "95cfcf4e-78ff-4314-f1d0-ef1be6a15475",
        "colab": {
          "base_uri": "https://localhost:8080/",
          "height": 136
        }
      },
      "source": [
        "import xgboost as xgb\n",
        "xg=xgb.XGBClassifier(objective ='binary:logistic', colsample_bytree = 0.5, learning_rate = 0.1,\\\n",
        "                          max_depth = 10, alpha = 0, n_estimators = 10,eval_metric='auc')\n",
        "xg.fit(X_train,y_train)"
      ],
      "execution_count": 0,
      "outputs": [
        {
          "output_type": "execute_result",
          "data": {
            "text/plain": [
              "XGBClassifier(alpha=0, base_score=0.5, booster='gbtree', colsample_bylevel=1,\n",
              "       colsample_bytree=0.5, eval_metric='auc', gamma=0, learning_rate=0.1,\n",
              "       max_delta_step=0, max_depth=10, min_child_weight=1, missing=None,\n",
              "       n_estimators=10, n_jobs=1, nthread=None,\n",
              "       objective='binary:logistic', random_state=0, reg_alpha=0,\n",
              "       reg_lambda=1, scale_pos_weight=1, seed=None, silent=True,\n",
              "       subsample=1)"
            ]
          },
          "metadata": {
            "tags": []
          },
          "execution_count": 44
        }
      ]
    },
    {
      "cell_type": "code",
      "metadata": {
        "id": "is9CEDbnT3CP",
        "colab_type": "code",
        "outputId": "ea4bf4e5-eb8c-4f5e-d329-0a205a996e39",
        "colab": {
          "base_uri": "https://localhost:8080/",
          "height": 380
        }
      },
      "source": [
        "preds_xgb = np.round(xg.predict(X_val))\n",
        "acc_xgb=accuracy_score(y_val,preds_xgb)  \n",
        "auc_xgb=roc_auc_score(y_val,preds_xgb)\n",
        "print(\"Results of XGBoost with balanced classes : \")\n",
        "print(\"Accuracy = \"+str(acc_xgb))\n",
        "print(\"AUC score = \"+str(auc_xgb))\n",
        "print(confusion_matrix(y_val,preds_xgb))\n",
        "fpr,tpr,_=roc_curve(y_val,preds_xgb)\n",
        "plt.plot(fpr,tpr)\n",
        "plt.title(\"ROC Curve\")\n",
        "plt.xlabel(\"FPR\")\n",
        "plt.ylabel(\"TPR\") \n",
        "plt.show() "
      ],
      "execution_count": 0,
      "outputs": [
        {
          "output_type": "stream",
          "text": [
            "Results of XGBoost with balanced classes : \n",
            "Accuracy = 0.825619737047753\n",
            "AUC score = 0.826222561705724\n",
            "[[129617   1070]\n",
            " [ 44675  86967]]\n"
          ],
          "name": "stdout"
        },
        {
          "output_type": "display_data",
          "data": {
            "image/png": "[encoded data removed]",
            "text/plain": [
              "<Figure size 432x288 with 1 Axes>"
            ]
          },
          "metadata": {
            "tags": []
          }
        }
      ]
    },
    {
      "cell_type": "markdown",
      "metadata": {
        "id": "FSI76sj_6Gtp",
        "colab_type": "text"
      },
      "source": [
        "### Improving accuracy on our XGBoost model\n",
        "Now, we use twice the number of positive samples as negative samples, to improve the accuracy. Since the ratio of positive to negative samples is just 2:1, we can consider the data to not be too skewed."
      ]
    },
    {
      "cell_type": "code",
      "metadata": {
        "id": "_7j3_Nq-X7UP",
        "colab_type": "code",
        "colab": {}
      },
      "source": [
        "data_mod = data[data['click']==1]\n",
        "data_mod=pd.concat([data[data['click']==0][:437214*2],data_mod],axis=0)\n",
        "X_train,X_val,y_train,y_val=train_test_split(data_mod[needed_cols],data_mod['click'],test_size=0.3,random_state=123)  "
      ],
      "execution_count": 0,
      "outputs": []
    },
    {
      "cell_type": "code",
      "metadata": {
        "id": "1vAhZKm2dL6M",
        "colab_type": "code",
        "outputId": "fbf97cda-1b7f-401f-b2c6-1ceaa9835d80",
        "colab": {
          "base_uri": "https://localhost:8080/",
          "height": 136
        }
      },
      "source": [
        "import xgboost as xgb\n",
        "xg=xgb.XGBClassifier(objective ='binary:logistic', colsample_bytree = 0.5, learning_rate = 0.1,\\\n",
        "                          max_depth = 10, alpha = 0, n_estimators = 10,eval_metric='auc')\n",
        "xg.fit(X_train,y_train)"
      ],
      "execution_count": 34,
      "outputs": [
        {
          "output_type": "execute_result",
          "data": {
            "text/plain": [
              "XGBClassifier(alpha=0, base_score=0.5, booster='gbtree', colsample_bylevel=1,\n",
              "       colsample_bytree=0.5, eval_metric='auc', gamma=0, learning_rate=0.1,\n",
              "       max_delta_step=0, max_depth=10, min_child_weight=1, missing=None,\n",
              "       n_estimators=10, n_jobs=1, nthread=None,\n",
              "       objective='binary:logistic', random_state=0, reg_alpha=0,\n",
              "       reg_lambda=1, scale_pos_weight=1, seed=None, silent=True,\n",
              "       subsample=1)"
            ]
          },
          "metadata": {
            "tags": []
          },
          "execution_count": 34
        }
      ]
    },
    {
      "cell_type": "code",
      "metadata": {
        "id": "u1JMfLhM693j",
        "colab_type": "code",
        "colab": {
          "base_uri": "https://localhost:8080/",
          "height": 380
        },
        "outputId": "d83b5838-0c2e-480f-89a0-922a527e5d10"
      },
      "source": [
        "preds_xgb = np.round(xg.predict(X_val))\n",
        "acc_xgb=accuracy_score(y_val,preds_xgb)  \n",
        "auc_xgb=roc_auc_score(y_val,preds_xgb)\n",
        "print(\"Results of XGBoost with balanced classes : \")\n",
        "print(\"Accuracy = \"+str(acc_xgb))\n",
        "print(\"AUC score = \"+str(auc_xgb))\n",
        "print(confusion_matrix(y_val,preds_xgb))\n",
        "fpr,tpr,_=roc_curve(y_val,preds_xgb)\n",
        "plt.plot(fpr,tpr)\n",
        "plt.title(\"ROC Curve\")\n",
        "plt.xlabel(\"FPR\")\n",
        "plt.ylabel(\"TPR\") \n",
        "plt.show()   "
      ],
      "execution_count": 37,
      "outputs": [
        {
          "output_type": "stream",
          "text": [
            "Results of XGBoost with balanced classes : \n",
            "Accuracy = 0.9108827857166455\n",
            "AUC score = 0.8894806357762766\n",
            "[[250117  12122]\n",
            " [ 22945 108309]]\n"
          ],
          "name": "stdout"
        },
        {
          "output_type": "display_data",
          "data": {
            "image/png": "[encoded data removed]",
            "text/plain": [
              "<Figure size 432x288 with 1 Axes>"
            ]
          },
          "metadata": {
            "tags": []
          }
        }
      ]
    },
    {
      "cell_type": "code",
      "metadata": {
        "id": "9rAyF26_f49a",
        "colab_type": "code",
        "outputId": "a91d0fb7-2454-4d1b-af8b-4879561761a7",
        "colab": {
          "base_uri": "https://localhost:8080/",
          "height": 34
        }
      },
      "source": [
        "print(\"Percentage of the available dataset that was used for this model = {}%\".format(str(data_mod.shape[0]/train.shape[0]*100))) "
      ],
      "execution_count": 38,
      "outputs": [
        {
          "output_type": "stream",
          "text": [
            "Percentage of the available dataset that was used for this model = 10.80624923276934%\n"
          ],
          "name": "stdout"
        }
      ]
    },
    {
      "cell_type": "markdown",
      "metadata": {
        "id": "SIO9LpZCfsB4",
        "colab_type": "text"
      },
      "source": [
        "## Conclusion\n",
        "\n",
        "We notice improvements in both the accuracy and AUC scores in this final model. Note that we have used only about 11% of the available data to arrive at these results. This indicates that the data required to capture the relevant trends is actually much less than the amount availed. It is more important that the model is trained on a balanced dataset, so that a high AUC score is ensured.\n",
        "\n",
        "Other attempts that were made include using a weighted loss function for Logistic Regression and Linear Regression, but these did not produce good AUC scores."
      ]
    }
  ]
}